{
 "cells": [
  {
   "cell_type": "code",
   "execution_count": 4,
   "metadata": {},
   "outputs": [],
   "source": [
    "import pandas as pd\n",
    "\n",
    "df = pd.read_csv('training_set_VU_DM.csv')\n",
    "\n"
   ]
  },
  {
   "cell_type": "code",
   "execution_count": 5,
   "metadata": {},
   "outputs": [],
   "source": [
    "def get_time_of_day(hour):\n",
    "    if 5 <= hour < 12:\n",
    "        return 'Morning'\n",
    "    elif 12 <= hour < 17:\n",
    "        return 'Afternoon'\n",
    "    elif 17 <= hour < 21:\n",
    "        return 'Evening'\n",
    "    else:\n",
    "        return 'Night'\n"
   ]
  },
  {
   "cell_type": "code",
   "execution_count": 6,
   "metadata": {},
   "outputs": [
    {
     "name": "stdout",
     "output_type": "stream",
     "text": [
      "  time_of_day  star_rating_difference  is_domestic\n",
      "0     Morning                     0.0            0\n",
      "1     Morning                     0.0            0\n",
      "2     Morning                     0.0            0\n",
      "3     Morning                     0.0            0\n",
      "4     Morning                     0.0            0\n"
     ]
    }
   ],
   "source": [
    "\n",
    "df['date_time'] = pd.to_datetime(df['date_time'])\n",
    "df['time_of_day'] = df['date_time'].dt.hour.apply(get_time_of_day)\n",
    "df['is_weekend'] = df['date_time'].dt.dayofweek >= 5\n",
    "\n",
    "\n",
    "df['price_per_night'] = df['price_usd'] / df['srch_length_of_stay']\n",
    "df['star_rating_difference'] = df['prop_starrating'] - df['visitor_hist_starrating'].fillna(df['prop_starrating'])\n",
    "df['is_domestic'] = (df['prop_country_id'] == df['visitor_location_country_id']).astype(int)\n",
    "\n",
    "print(df[['time_of_day', 'star_rating_difference', 'is_domestic']].head())\n",
    "\n"
   ]
  },
  {
   "cell_type": "code",
   "execution_count": null,
   "metadata": {},
   "outputs": [],
   "source": [
    "#Competition features\n",
    "\n",
    "df[[f'comp{i}_rate' for i in range(1, 9)]].fillna(0, inplace=True)\n",
    "\n",
    "df['rate_advantage_count'] = (df[[f'comp{i}_rate' for i in range(1, 3)]].fillna(0) > 0).sum(axis=1)\n",
    "df['rate_disadvantage_count'] = (df[[f'comp{i}_rate' for i in range(1, 3)]].fillna(0) < 0).sum(axis=1)\n",
    "df['availability_advantage_count'] = (df[[f'comp{i}_inv' for i in range(1, 3)]].fillna(0) > 0).sum(axis=1)\n",
    "df['avg_rate_percent_diff'] = df[[f'comp{i}_rate_percent_diff' for i in range(1, 3)]].mean(axis=1, skipna=True)\n",
    "df['max_rate_percent_diff'] = df[[f'comp{i}_rate_percent_diff' for i in range(1, 3)]].max(axis=1, skipna=True)\n",
    "df['min_rate_percent_diff'] = df[[f'comp{i}_rate_percent_diff' for i in range(1, 3)]].min(axis=1, skipna=True)\n",
    "\n",
    "df.head"
   ]
  },
  {
   "cell_type": "code",
   "execution_count": 7,
   "metadata": {},
   "outputs": [],
   "source": [
    "df.to_csv('feature_eng_out.csv', index=False)"
   ]
  }
 ],
 "metadata": {
  "kernelspec": {
   "display_name": "venv",
   "language": "python",
   "name": "python3"
  },
  "language_info": {
   "codemirror_mode": {
    "name": "ipython",
    "version": 3
   },
   "file_extension": ".py",
   "mimetype": "text/x-python",
   "name": "python",
   "nbconvert_exporter": "python",
   "pygments_lexer": "ipython3",
   "version": "3.9.7"
  },
  "orig_nbformat": 4,
  "vscode": {
   "interpreter": {
    "hash": "cfc91c2c319dd6b8c9b1173acfbb22396c5027a54fa5ebc182c6e78ddcd83096"
   }
  }
 },
 "nbformat": 4,
 "nbformat_minor": 2
}
