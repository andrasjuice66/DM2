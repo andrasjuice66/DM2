{
 "cells": [
  {
   "cell_type": "code",
   "execution_count": 17,
   "metadata": {},
   "outputs": [],
   "source": [
    "import pandas as pd\n",
    "\n",
    "df = pd.read_csv('training_set_VU_DM.csv')"
   ]
  },
  {
   "cell_type": "code",
   "execution_count": 18,
   "metadata": {},
   "outputs": [],
   "source": [
    "def get_time_of_day(hour):\n",
    "    if 5 <= hour < 12:\n",
    "        return 0\n",
    "    elif 12 <= hour < 17:\n",
    "        return 1\n",
    "    elif 17 <= hour < 21:\n",
    "        return 2\n",
    "    else:\n",
    "        return 3"
   ]
  },
  {
   "cell_type": "code",
   "execution_count": 22,
   "metadata": {},
   "outputs": [
    {
     "name": "stdout",
     "output_type": "stream",
     "text": [
      "   time_of_day  star_rating_difference  is_domestic\n",
      "0            0                     0.0            0\n",
      "1            0                     0.0            0\n",
      "2            0                     0.0            0\n",
      "3            0                     0.0            0\n",
      "4            0                     0.0            0\n",
      "Index(['srch_id', 'date_time', 'site_id', 'visitor_location_country_id',\n",
      "       'visitor_hist_starrating', 'visitor_hist_adr_usd', 'prop_country_id',\n",
      "       'prop_id', 'prop_starrating', 'prop_review_score', 'prop_brand_bool',\n",
      "       'prop_location_score1', 'prop_location_score2',\n",
      "       'prop_log_historical_price', 'position', 'price_usd', 'promotion_flag',\n",
      "       'srch_destination_id', 'srch_length_of_stay', 'srch_booking_window',\n",
      "       'srch_adults_count', 'srch_children_count', 'srch_room_count',\n",
      "       'srch_saturday_night_bool', 'srch_query_affinity_score',\n",
      "       'orig_destination_distance', 'random_bool', 'comp1_rate', 'comp1_inv',\n",
      "       'comp1_rate_percent_diff', 'comp2_rate', 'comp2_inv',\n",
      "       'comp2_rate_percent_diff', 'comp3_rate', 'comp3_inv',\n",
      "       'comp3_rate_percent_diff', 'comp4_rate', 'comp4_inv',\n",
      "       'comp4_rate_percent_diff', 'comp5_rate', 'comp5_inv',\n",
      "       'comp5_rate_percent_diff', 'comp6_rate', 'comp6_inv',\n",
      "       'comp6_rate_percent_diff', 'comp7_rate', 'comp7_inv',\n",
      "       'comp7_rate_percent_diff', 'comp8_rate', 'comp8_inv',\n",
      "       'comp8_rate_percent_diff', 'click_bool', 'gross_bookings_usd',\n",
      "       'booking_bool', 'time_of_day', 'is_weekend', 'price_per_night',\n",
      "       'star_rating_difference', 'is_domestic', 'rate_advantage_count',\n",
      "       'rate_disadvantage_count', 'availability_advantage_count',\n",
      "       'avg_rate_percent_diff', 'max_rate_percent_diff',\n",
      "       'min_rate_percent_diff'],\n",
      "      dtype='object')\n"
     ]
    }
   ],
   "source": [
    "df['date_time'] = pd.to_datetime(df['date_time'])\n",
    "df['time_of_day'] = df['date_time'].dt.hour.apply(get_time_of_day)\n",
    "df['is_weekend'] = df['date_time'].dt.dayofweek >= 5\n",
    "\n",
    "\n",
    "df['price_per_night'] = df['price_usd'] / df['srch_length_of_stay']\n",
    "df['star_rating_difference'] = df['prop_starrating'] - df['visitor_hist_starrating'].fillna(df['prop_starrating'])\n",
    "df['is_domestic'] = (df['prop_country_id'] == df['visitor_location_country_id']).astype(int)\n",
    "\n",
    "print(df[['time_of_day', 'star_rating_difference', 'is_domestic']].head())\n",
    "\n",
    "print(df.columns)"
   ]
  },
  {
   "cell_type": "code",
   "execution_count": 20,
   "metadata": {},
   "outputs": [
    {
     "name": "stderr",
     "output_type": "stream",
     "text": [
      "/var/folders/__/6x_r2ddd163c_j6x_mtwstbr0000gn/T/ipykernel_65816/1489280912.py:3: SettingWithCopyWarning: \n",
      "A value is trying to be set on a copy of a slice from a DataFrame\n",
      "\n",
      "See the caveats in the documentation: https://pandas.pydata.org/pandas-docs/stable/user_guide/indexing.html#returning-a-view-versus-a-copy\n",
      "  df[[f'comp{i}_rate' for i in range(1, 9)]].fillna(0, inplace=True)\n"
     ]
    },
    {
     "data": {
      "text/plain": [
       "<bound method NDFrame.head of          srch_id           date_time  site_id  visitor_location_country_id  \\\n",
       "0              1 2013-04-04 08:32:15       12                          187   \n",
       "1              1 2013-04-04 08:32:15       12                          187   \n",
       "2              1 2013-04-04 08:32:15       12                          187   \n",
       "3              1 2013-04-04 08:32:15       12                          187   \n",
       "4              1 2013-04-04 08:32:15       12                          187   \n",
       "...          ...                 ...      ...                          ...   \n",
       "4958342   332785 2013-06-30 19:55:18        5                          219   \n",
       "4958343   332785 2013-06-30 19:55:18        5                          219   \n",
       "4958344   332785 2013-06-30 19:55:18        5                          219   \n",
       "4958345   332785 2013-06-30 19:55:18        5                          219   \n",
       "4958346   332785 2013-06-30 19:55:18        5                          219   \n",
       "\n",
       "         visitor_hist_starrating  visitor_hist_adr_usd  prop_country_id  \\\n",
       "0                            NaN                   NaN              219   \n",
       "1                            NaN                   NaN              219   \n",
       "2                            NaN                   NaN              219   \n",
       "3                            NaN                   NaN              219   \n",
       "4                            NaN                   NaN              219   \n",
       "...                          ...                   ...              ...   \n",
       "4958342                      NaN                   NaN              219   \n",
       "4958343                      NaN                   NaN              219   \n",
       "4958344                      NaN                   NaN              219   \n",
       "4958345                      NaN                   NaN              219   \n",
       "4958346                      NaN                   NaN              219   \n",
       "\n",
       "         prop_id  prop_starrating  prop_review_score  ...  is_weekend  \\\n",
       "0            893                3                3.5  ...       False   \n",
       "1          10404                4                4.0  ...       False   \n",
       "2          21315                3                4.5  ...       False   \n",
       "3          27348                2                4.0  ...       False   \n",
       "4          29604                4                3.5  ...       False   \n",
       "...          ...              ...                ...  ...         ...   \n",
       "4958342    77700                3                4.0  ...        True   \n",
       "4958343    88083                3                4.0  ...        True   \n",
       "4958344    94508                3                3.5  ...        True   \n",
       "4958345   128360                3                5.0  ...        True   \n",
       "4958346   134949                3                2.5  ...        True   \n",
       "\n",
       "         price_per_night  star_rating_difference  is_domestic  \\\n",
       "0                 104.77                     0.0            0   \n",
       "1                 170.74                     0.0            0   \n",
       "2                 179.80                     0.0            0   \n",
       "3                 602.77                     0.0            0   \n",
       "4                 143.58                     0.0            0   \n",
       "...                  ...                     ...          ...   \n",
       "4958342           118.00                     0.0            1   \n",
       "4958343            89.00                     0.0            1   \n",
       "4958344            99.00                     0.0            1   \n",
       "4958345           139.00                     0.0            1   \n",
       "4958346            61.00                     0.0            1   \n",
       "\n",
       "         rate_advantage_count  rate_disadvantage_count  \\\n",
       "0                           0                        0   \n",
       "1                           0                        0   \n",
       "2                           0                        0   \n",
       "3                           0                        1   \n",
       "4                           0                        0   \n",
       "...                       ...                      ...   \n",
       "4958342                     0                        0   \n",
       "4958343                     0                        0   \n",
       "4958344                     0                        0   \n",
       "4958345                     0                        0   \n",
       "4958346                     0                        0   \n",
       "\n",
       "         availability_advantage_count  avg_rate_percent_diff  \\\n",
       "0                                   0                    NaN   \n",
       "1                                   0                    NaN   \n",
       "2                                   0                    NaN   \n",
       "3                                   0                    5.0   \n",
       "4                                   0                    NaN   \n",
       "...                               ...                    ...   \n",
       "4958342                             0                    NaN   \n",
       "4958343                             0                    NaN   \n",
       "4958344                             0                    NaN   \n",
       "4958345                             0                    NaN   \n",
       "4958346                             0                    NaN   \n",
       "\n",
       "         max_rate_percent_diff  min_rate_percent_diff  \n",
       "0                          NaN                    NaN  \n",
       "1                          NaN                    NaN  \n",
       "2                          NaN                    NaN  \n",
       "3                          5.0                    5.0  \n",
       "4                          NaN                    NaN  \n",
       "...                        ...                    ...  \n",
       "4958342                    NaN                    NaN  \n",
       "4958343                    NaN                    NaN  \n",
       "4958344                    NaN                    NaN  \n",
       "4958345                    NaN                    NaN  \n",
       "4958346                    NaN                    NaN  \n",
       "\n",
       "[4958347 rows x 65 columns]>"
      ]
     },
     "execution_count": 20,
     "metadata": {},
     "output_type": "execute_result"
    }
   ],
   "source": [
    "#Competition features\n",
    "\n",
    "df[[f'comp{i}_rate' for i in range(1, 9)]].fillna(0, inplace=True)\n",
    "\n",
    "df['rate_advantage_count'] = (df[[f'comp{i}_rate' for i in range(1, 3)]].fillna(0) > 0).sum(axis=1)\n",
    "df['rate_disadvantage_count'] = (df[[f'comp{i}_rate' for i in range(1, 3)]].fillna(0) < 0).sum(axis=1)\n",
    "df['availability_advantage_count'] = (df[[f'comp{i}_inv' for i in range(1, 3)]].fillna(0) > 0).sum(axis=1)\n",
    "df['avg_rate_percent_diff'] = df[[f'comp{i}_rate_percent_diff' for i in range(1, 3)]].mean(axis=1, skipna=True)\n",
    "df['max_rate_percent_diff'] = df[[f'comp{i}_rate_percent_diff' for i in range(1, 3)]].max(axis=1, skipna=True)\n",
    "df['min_rate_percent_diff'] = df[[f'comp{i}_rate_percent_diff' for i in range(1, 3)]].min(axis=1, skipna=True)\n",
    "\n",
    "df.head"
   ]
  },
  {
   "cell_type": "code",
   "execution_count": 33,
   "metadata": {},
   "outputs": [
    {
     "name": "stdout",
     "output_type": "stream",
     "text": [
      "0\n"
     ]
    },
    {
     "data": {
      "image/png": "[encoded data removed]",
      "text/plain": [
       "<Figure size 800x500 with 1 Axes>"
      ]
     },
     "metadata": {},
     "output_type": "display_data"
    },
    {
     "name": "stdout",
     "output_type": "stream",
     "text": [
      "    position  relevance_score\n",
      "0         27         0.285714\n",
      "1         26         0.296296\n",
      "2         21         0.363636\n",
      "3         34         0.228571\n",
      "4          4         1.600000\n",
      "5          7         1.000000\n",
      "6         18         0.421053\n",
      "7         35         0.222222\n",
      "8          3         2.000000\n",
      "9         10         0.727273\n",
      "10        20         0.380952\n",
      "11        19         0.400000\n",
      "12        13        11.318879\n",
      "13         2         2.666667\n",
      "14        15         0.500000\n",
      "15        31         0.250000\n",
      "16        23         0.333333\n",
      "17        36         0.216216\n",
      "18         8         0.888889\n",
      "19         6         1.142857\n",
      "20        28         0.275862\n",
      "21         1         4.000000\n",
      "22        32         0.242424\n",
      "23        12         0.615385\n",
      "24        24         0.320000\n",
      "25        37         0.210526\n",
      "26        33         0.235294\n",
      "27        29         0.266667\n"
     ]
    }
   ],
   "source": [
    "#Creating relevance score\n",
    "\n",
    "import numpy as np\n",
    "import matplotlib.pyplot as plt\n",
    "# Weights for each feature\n",
    "click_weight = 1\n",
    "booking_weight = 5\n",
    "position_weight = 8  # Stronger emphasis on the position\n",
    "print(df['position'].isnull().sum())\n",
    "\n",
    "\n",
    "# Calculate the relevance score\n",
    "# Calculate relevance score with condition\n",
    "df['relevance_score'] = (\n",
    "    (1 / (df['position'] + 1)) * position_weight +\n",
    "    df['click_bool'] * click_weight +\n",
    "    df['booking_bool'] * booking_weight +\n",
    "    np.where(df['gross_bookings_usd'].notnull(), np.log(df['gross_bookings_usd'] + 1), 0)\n",
    ")\n",
    "\n",
    "# Plot the distribution of the relevance scores\n",
    "plt.figure(figsize=(8, 5))\n",
    "plt.hist(df['relevance_score'], bins=10, color='blue', edgecolor='black', alpha=0.7)\n",
    "plt.xlabel('Relevance Score')\n",
    "plt.ylabel('Frequency')\n",
    "plt.title('Distribution of Relevance Scores')\n",
    "plt.grid(axis='y', linestyle='--', alpha=0.6)\n",
    "plt.show()\n",
    "\n",
    "print(df[df['srch_id'] == 1][['position', 'relevance_score']])\n",
    "\n"
   ]
  },
  {
   "cell_type": "code",
   "execution_count": null,
   "metadata": {},
   "outputs": [],
   "source": [
    " # Check feature \"usefulness\"\n",
    "from sklearn.feature_selection import mutual_info_classif, SelectKBest, RFE\n",
    "# import matplotlib.pyplot as plt\n",
    "# import seaborn as sns\n",
    "\n",
    "# # Assuming you have a numerical target variable named 'target'\n",
    "# float_non_comp = ['visitor_hist_starrating', 'visitor_hist_adr_usd', 'prop_review_score', 'prop_location_score1', 'prop_location_score2', 'prop_log_historical_price', 'price_usd', 'srch_query_affinity_score', 'orig_destination_distance']\n",
    "\n",
    "# corr_matrix = df[float_non_comp].corr()\n",
    "# plt.figure(figsize=(12, 8))\n",
    "# sns.heatmap(corr_matrix, annot=True, cmap='coolwarm', fmt='.2f')\n",
    "# plt.title(\"Correlation Matrix\")\n",
    "# plt.show()\n",
    "\n",
    "# # List features that are highly correlated with the target\n",
    "# threshold = 0.5  # Adjust this based on your dataset\n",
    "# correlated_features = corr_matrix.index[abs(corr_matrix['click_bool']) > threshold]\n",
    "# print(f\"Highly Correlated Features with the Target: {list(correlated_features)}\")\n"
   ]
  },
  {
   "cell_type": "code",
   "execution_count": null,
   "metadata": {},
   "outputs": [],
   "source": [
    "from sklearn.impute import SimpleImputer\n",
    "\n",
    "X = df.drop(columns=['click_bool', 'booking_bool', 'position', 'date_time'])\n",
    "y = df['click_bool']\n",
    "\n",
    "imputer = SimpleImputer(strategy='mean')\n",
    "X = imputer.fit_transform(df)\n",
    "# Compute mutual information\n",
    "mi_scores = mutual_info_classif(X, y, random_state=42)\n",
    "\n",
    "# Convert to a DataFrame for readability\n",
    "mi_df = pd.DataFrame({'Feature': X.columns, 'Mutual Information': mi_scores})\n",
    "mi_df = mi_df.sort_values(by='Mutual Information', ascending=False)\n",
    "print(mi_df)"
   ]
  },
  {
   "cell_type": "code",
   "execution_count": null,
   "metadata": {},
   "outputs": [],
   "source": [
    "df.to_csv('feature_eng_out.csv', index=False)"
   ]
  }
 ],
 "metadata": {
  "kernelspec": {
   "display_name": "venv",
   "language": "python",
   "name": "python3"
  },
  "language_info": {
   "codemirror_mode": {
    "name": "ipython",
    "version": 3
   },
   "file_extension": ".py",
   "mimetype": "text/x-python",
   "name": "python",
   "nbconvert_exporter": "python",
   "pygments_lexer": "ipython3",
   "version": "3.9.7"
  },
  "orig_nbformat": 4,
  "vscode": {
   "interpreter": {
    "hash": "cfc91c2c319dd6b8c9b1173acfbb22396c5027a54fa5ebc182c6e78ddcd83096"
   }
  }
 },
 "nbformat": 4,
 "nbformat_minor": 2
}
