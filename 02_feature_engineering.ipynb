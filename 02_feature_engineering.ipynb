{
 "cells": [
  {
   "cell_type": "code",
   "execution_count": 8,
   "metadata": {},
   "outputs": [],
   "source": [
    "import pandas as pd\n",
    "\n",
    "df = pd.read_csv('training_set_VU_DM.csv')\n",
    "\n"
   ]
  },
  {
   "cell_type": "code",
   "execution_count": 9,
   "metadata": {},
   "outputs": [],
   "source": [
    "def get_time_of_day(hour):\n",
    "    if 5 <= hour < 12:\n",
    "        return 'Morning'\n",
    "    elif 12 <= hour < 17:\n",
    "        return 'Afternoon'\n",
    "    elif 17 <= hour < 21:\n",
    "        return 'Evening'\n",
    "    else:\n",
    "        return 'Night'\n"
   ]
  },
  {
   "cell_type": "code",
   "execution_count": 10,
   "metadata": {},
   "outputs": [
    {
     "name": "stdout",
     "output_type": "stream",
     "text": [
      "  time_of_day  star_rating_difference  is_domestic\n",
      "0     Morning                     0.0            0\n",
      "1     Morning                     0.0            0\n",
      "2     Morning                     0.0            0\n",
      "3     Morning                     0.0            0\n",
      "4     Morning                     0.0            0\n"
     ]
    }
   ],
   "source": [
    "\n",
    "df['date_time'] = pd.to_datetime(df['date_time'])\n",
    "df['time_of_day'] = df['date_time'].dt.hour.apply(get_time_of_day)\n",
    "df['is_weekend'] = df['date_time'].dt.dayofweek >= 5\n",
    "\n",
    "\n",
    "df['price_per_night'] = df['price_usd'] / df['srch_length_of_stay']\n",
    "df['star_rating_difference'] = df['prop_starrating'] - df['visitor_hist_starrating'].fillna(df['prop_starrating'])\n",
    "df['is_domestic'] = (df['prop_country_id'] == df['visitor_location_country_id']).astype(int)\n",
    "\n",
    "print(df[['time_of_day', 'star_rating_difference', 'is_domestic']].head())\n",
    "\n"
   ]
  },
  {
   "cell_type": "code",
   "execution_count": 11,
   "metadata": {},
   "outputs": [
    {
     "name": "stderr",
     "output_type": "stream",
     "text": [
      "/var/folders/__/6x_r2ddd163c_j6x_mtwstbr0000gn/T/ipykernel_34280/1489280912.py:3: SettingWithCopyWarning: \n",
      "A value is trying to be set on a copy of a slice from a DataFrame\n",
      "\n",
      "See the caveats in the documentation: https://pandas.pydata.org/pandas-docs/stable/user_guide/indexing.html#returning-a-view-versus-a-copy\n",
      "  df[[f'comp{i}_rate' for i in range(1, 9)]].fillna(0, inplace=True)\n"
     ]
    },
    {
     "data": {
      "text/plain": [
       "<bound method NDFrame.head of          srch_id           date_time  site_id  visitor_location_country_id  \\\n",
       "0              1 2013-04-04 08:32:15       12                          187   \n",
       "1              1 2013-04-04 08:32:15       12                          187   \n",
       "2              1 2013-04-04 08:32:15       12                          187   \n",
       "3              1 2013-04-04 08:32:15       12                          187   \n",
       "4              1 2013-04-04 08:32:15       12                          187   \n",
       "...          ...                 ...      ...                          ...   \n",
       "4958342   332785 2013-06-30 19:55:18        5                          219   \n",
       "4958343   332785 2013-06-30 19:55:18        5                          219   \n",
       "4958344   332785 2013-06-30 19:55:18        5                          219   \n",
       "4958345   332785 2013-06-30 19:55:18        5                          219   \n",
       "4958346   332785 2013-06-30 19:55:18        5                          219   \n",
       "\n",
       "         visitor_hist_starrating  visitor_hist_adr_usd  prop_country_id  \\\n",
       "0                            NaN                   NaN              219   \n",
       "1                            NaN                   NaN              219   \n",
       "2                            NaN                   NaN              219   \n",
       "3                            NaN                   NaN              219   \n",
       "4                            NaN                   NaN              219   \n",
       "...                          ...                   ...              ...   \n",
       "4958342                      NaN                   NaN              219   \n",
       "4958343                      NaN                   NaN              219   \n",
       "4958344                      NaN                   NaN              219   \n",
       "4958345                      NaN                   NaN              219   \n",
       "4958346                      NaN                   NaN              219   \n",
       "\n",
       "         prop_id  prop_starrating  prop_review_score  ...  is_weekend  \\\n",
       "0            893                3                3.5  ...       False   \n",
       "1          10404                4                4.0  ...       False   \n",
       "2          21315                3                4.5  ...       False   \n",
       "3          27348                2                4.0  ...       False   \n",
       "4          29604                4                3.5  ...       False   \n",
       "...          ...              ...                ...  ...         ...   \n",
       "4958342    77700                3                4.0  ...        True   \n",
       "4958343    88083                3                4.0  ...        True   \n",
       "4958344    94508                3                3.5  ...        True   \n",
       "4958345   128360                3                5.0  ...        True   \n",
       "4958346   134949                3                2.5  ...        True   \n",
       "\n",
       "         price_per_night  star_rating_difference  is_domestic  \\\n",
       "0                 104.77                     0.0            0   \n",
       "1                 170.74                     0.0            0   \n",
       "2                 179.80                     0.0            0   \n",
       "3                 602.77                     0.0            0   \n",
       "4                 143.58                     0.0            0   \n",
       "...                  ...                     ...          ...   \n",
       "4958342           118.00                     0.0            1   \n",
       "4958343            89.00                     0.0            1   \n",
       "4958344            99.00                     0.0            1   \n",
       "4958345           139.00                     0.0            1   \n",
       "4958346            61.00                     0.0            1   \n",
       "\n",
       "         rate_advantage_count  rate_disadvantage_count  \\\n",
       "0                           0                        0   \n",
       "1                           0                        0   \n",
       "2                           0                        0   \n",
       "3                           0                        1   \n",
       "4                           0                        0   \n",
       "...                       ...                      ...   \n",
       "4958342                     0                        0   \n",
       "4958343                     0                        0   \n",
       "4958344                     0                        0   \n",
       "4958345                     0                        0   \n",
       "4958346                     0                        0   \n",
       "\n",
       "         availability_advantage_count  avg_rate_percent_diff  \\\n",
       "0                                   0                    NaN   \n",
       "1                                   0                    NaN   \n",
       "2                                   0                    NaN   \n",
       "3                                   0                    5.0   \n",
       "4                                   0                    NaN   \n",
       "...                               ...                    ...   \n",
       "4958342                             0                    NaN   \n",
       "4958343                             0                    NaN   \n",
       "4958344                             0                    NaN   \n",
       "4958345                             0                    NaN   \n",
       "4958346                             0                    NaN   \n",
       "\n",
       "         max_rate_percent_diff  min_rate_percent_diff  \n",
       "0                          NaN                    NaN  \n",
       "1                          NaN                    NaN  \n",
       "2                          NaN                    NaN  \n",
       "3                          5.0                    5.0  \n",
       "4                          NaN                    NaN  \n",
       "...                        ...                    ...  \n",
       "4958342                    NaN                    NaN  \n",
       "4958343                    NaN                    NaN  \n",
       "4958344                    NaN                    NaN  \n",
       "4958345                    NaN                    NaN  \n",
       "4958346                    NaN                    NaN  \n",
       "\n",
       "[4958347 rows x 65 columns]>"
      ]
     },
     "execution_count": 11,
     "metadata": {},
     "output_type": "execute_result"
    }
   ],
   "source": [
    "#Competition features\n",
    "\n",
    "df[[f'comp{i}_rate' for i in range(1, 9)]].fillna(0, inplace=True)\n",
    "\n",
    "df['rate_advantage_count'] = (df[[f'comp{i}_rate' for i in range(1, 3)]].fillna(0) > 0).sum(axis=1)\n",
    "df['rate_disadvantage_count'] = (df[[f'comp{i}_rate' for i in range(1, 3)]].fillna(0) < 0).sum(axis=1)\n",
    "df['availability_advantage_count'] = (df[[f'comp{i}_inv' for i in range(1, 3)]].fillna(0) > 0).sum(axis=1)\n",
    "df['avg_rate_percent_diff'] = df[[f'comp{i}_rate_percent_diff' for i in range(1, 3)]].mean(axis=1, skipna=True)\n",
    "df['max_rate_percent_diff'] = df[[f'comp{i}_rate_percent_diff' for i in range(1, 3)]].max(axis=1, skipna=True)\n",
    "df['min_rate_percent_diff'] = df[[f'comp{i}_rate_percent_diff' for i in range(1, 3)]].min(axis=1, skipna=True)\n",
    "\n",
    "df.head"
   ]
  },
  {
   "cell_type": "code",
   "execution_count": 12,
   "metadata": {},
   "outputs": [],
   "source": [
    "df.to_csv('feature_eng_out.csv', index=False)"
   ]
  }
 ],
 "metadata": {
  "kernelspec": {
   "display_name": "venv",
   "language": "python",
   "name": "python3"
  },
  "language_info": {
   "codemirror_mode": {
    "name": "ipython",
    "version": 3
   },
   "file_extension": ".py",
   "mimetype": "text/x-python",
   "name": "python",
   "nbconvert_exporter": "python",
   "pygments_lexer": "ipython3",
   "version": "3.9.7"
  },
  "orig_nbformat": 4,
  "vscode": {
   "interpreter": {
    "hash": "cfc91c2c319dd6b8c9b1173acfbb22396c5027a54fa5ebc182c6e78ddcd83096"
   }
  }
 },
 "nbformat": 4,
 "nbformat_minor": 2
}
